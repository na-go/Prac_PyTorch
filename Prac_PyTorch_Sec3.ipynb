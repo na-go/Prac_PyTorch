{
  "nbformat": 4,
  "nbformat_minor": 0,
  "metadata": {
    "colab": {
      "name": "Prac_PyTorch_Sec3",
      "provenance": [],
      "collapsed_sections": [],
      "authorship_tag": "ABX9TyNnBUcZ0GwRWThOqep/F4kB",
      "include_colab_link": true
    },
    "kernelspec": {
      "name": "python3",
      "display_name": "Python 3"
    },
    "accelerator": "GPU"
  },
  "cells": [
    {
      "cell_type": "markdown",
      "metadata": {
        "id": "view-in-github",
        "colab_type": "text"
      },
      "source": [
        "<a href=\"https://colab.research.google.com/github/na-go/Prac_PyTorch/blob/master/Prac_PyTorch_Sec3.ipynb\" target=\"_parent\"><img src=\"https://colab.research.google.com/assets/colab-badge.svg\" alt=\"Open In Colab\"/></a>"
      ]
    },
    {
      "cell_type": "markdown",
      "metadata": {
        "id": "mHhncnX9T9eM",
        "colab_type": "text"
      },
      "source": [
        "# Section3\n",
        "## TOC\n",
        "1. データ読み込み\n",
        "2. ネットワーク定義\n",
        "3. 損失関数\n",
        "4. 最適化関数\n",
        "5. 学習\n",
        "6. 推論"
      ]
    },
    {
      "cell_type": "code",
      "metadata": {
        "id": "g0u8LDWiTFJs",
        "colab_type": "code",
        "colab": {
          "base_uri": "https://localhost:8080/",
          "height": 34
        },
        "outputId": "69c4917b-65d6-4eb4-f082-4ec97c784e48"
      },
      "source": [
        "# Google Driveにマウント\n",
        "from google.colab import drive\n",
        "drive.mount(\"/content/gdrive\")"
      ],
      "execution_count": 1,
      "outputs": [
        {
          "output_type": "stream",
          "text": [
            "Drive already mounted at /content/gdrive; to attempt to forcibly remount, call drive.mount(\"/content/gdrive\", force_remount=True).\n"
          ],
          "name": "stdout"
        }
      ]
    },
    {
      "cell_type": "code",
      "metadata": {
        "id": "wkIke256TZkY",
        "colab_type": "code",
        "colab": {
          "base_uri": "https://localhost:8080/",
          "height": 34
        },
        "outputId": "1e1668c3-a2c1-4ce7-d3e8-29c1d4a5b5e5"
      },
      "source": [
        "cd gdrive/My Drive/Colab Notebooks/prac_Putorch"
      ],
      "execution_count": 2,
      "outputs": [
        {
          "output_type": "stream",
          "text": [
            "/content/gdrive/My Drive/Colab Notebooks/prac_Putorch\n"
          ],
          "name": "stdout"
        }
      ]
    },
    {
      "cell_type": "code",
      "metadata": {
        "id": "k99rPZH6Tggl",
        "colab_type": "code",
        "colab": {}
      },
      "source": [
        "# モジュールのインポート\n",
        "import torch\n",
        "import torchvision\n",
        "import torch.nn as nn\n",
        "import torch.optim as optim\n",
        "import torch.nn.functional as F\n",
        "import torchvision.transforms as transforms\n",
        "%matplotlib inline\n",
        "import numpy as np\n",
        "import matplotlib.pyplot as plt"
      ],
      "execution_count": 0,
      "outputs": []
    },
    {
      "cell_type": "code",
      "metadata": {
        "id": "Y3ImGnq3UMC6",
        "colab_type": "code",
        "colab": {
          "base_uri": "https://localhost:8080/",
          "height": 85
        },
        "outputId": "b382835e-7214-4808-a120-42ed46babab5"
      },
      "source": [
        "# データの読み込み\n",
        "train_dataset = torchvision.datasets.CIFAR10(root = \"./data/\",\n",
        "                                             train = True,\n",
        "                                             transform = transforms.ToTensor(),\n",
        "                                             download = True\n",
        "                                             )\n",
        "\n",
        "test_dataset = torchvision.datasets.CIFAR10(root = \"./data\",\n",
        "                                            train = False,\n",
        "                                            transform = transforms.ToTensor(),\n",
        "                                            download = True\n",
        "                                            )\n",
        "image, label = train_dataset[0]\n",
        "print(image.size())\n",
        "print(label)"
      ],
      "execution_count": 4,
      "outputs": [
        {
          "output_type": "stream",
          "text": [
            "Files already downloaded and verified\n",
            "Files already downloaded and verified\n",
            "torch.Size([3, 32, 32])\n",
            "6\n"
          ],
          "name": "stdout"
        }
      ]
    },
    {
      "cell_type": "code",
      "metadata": {
        "id": "9IJb6EukUzWO",
        "colab_type": "code",
        "colab": {}
      },
      "source": [
        "## Dataloaderの定義\n",
        "train_loader = torch.utils.data.DataLoader(dataset = train_dataset,\n",
        "                                           batch_size = 64,\n",
        "                                           shuffle = True,\n",
        "                                           num_workers = 2\n",
        "                                           )\n",
        "test_loader = torch.utils.data.DataLoader(dataset=test_dataset,\n",
        "                                          batch_size = 64,\n",
        "                                          shuffle = False,\n",
        "                                          num_workers = 2\n",
        "                                          )"
      ],
      "execution_count": 0,
      "outputs": []
    },
    {
      "cell_type": "code",
      "metadata": {
        "id": "UT65xjDxVZKQ",
        "colab_type": "code",
        "colab": {
          "base_uri": "https://localhost:8080/",
          "height": 68
        },
        "outputId": "6a46dcde-8597-4e98-a3d6-430f0e2fb9dd"
      },
      "source": [
        "## Tensor形状の確認\n",
        "for images, labels in train_loader:\n",
        "  print(images.size())\n",
        "  print(images[0].size())\n",
        "  print(labels.size())\n",
        "  break\n",
        "  \"\"\"\n",
        "    torch.Size([64,3,32,32]) バッチサイズ, チャンネル数, 縦, 横\n",
        "    torch.Size([3,32,32]) チャンネル数, 縦, 横\n",
        "    torch.Size([64]) バッチサイズ\n",
        "  \"\"\""
      ],
      "execution_count": 6,
      "outputs": [
        {
          "output_type": "stream",
          "text": [
            "torch.Size([64, 3, 32, 32])\n",
            "torch.Size([3, 32, 32])\n",
            "torch.Size([64])\n"
          ],
          "name": "stdout"
        }
      ]
    },
    {
      "cell_type": "code",
      "metadata": {
        "id": "jJa840cNVjaw",
        "colab_type": "code",
        "colab": {}
      },
      "source": [
        "# ネットワーク定義\n",
        "## MLPネットワークの定義\n",
        "\n",
        "num_input = 32 * 32 * 3 #入力の次元 縦*横*チャンネル数\n",
        "num_classes = 10 # 出力の次元 CIFAR10は10種類のラベルがある\n",
        "class MLPNet(nn.Module):\n",
        "  def __init__(self):\n",
        "    super(MLPNet, self).__init__()\n",
        "    self.fc1 = nn.Linear(num_input, 600)\n",
        "    self.fc2 = nn.Linear(600, 600)\n",
        "    self.fc3 = nn.Linear(600, num_classes)\n",
        "    self.dropout1 = nn.Dropout2d(0.2)\n",
        "    self.dropout2 = nn.Dropout2d(0.2)\n",
        "\n",
        "  def forward(self, x):\n",
        "    x = F.relu(self.fc1(x))\n",
        "    x = self.dropout1(x)\n",
        "    x = F.relu(self.fc2(x))\n",
        "    x = self.dropout2(x)\n",
        "    return F.relu(self.fc3(x))\n",
        "\n",
        "device = \"cuda\" if torch.cuda.is_available() else \"cpu\"\n",
        "mlpnet = MLPNet().to(device)"
      ],
      "execution_count": 0,
      "outputs": []
    },
    {
      "cell_type": "code",
      "metadata": {
        "id": "-lUK65d0W_wH",
        "colab_type": "code",
        "colab": {}
      },
      "source": [
        "# 損失関数と最適化関数の定義\n",
        "criterion = nn.CrossEntropyLoss()\n",
        "optimizer = optim.SGD(mlpnet.parameters(),lr = 0.01, momentum = 0.9, weight_decay=5e-4)"
      ],
      "execution_count": 0,
      "outputs": []
    },
    {
      "cell_type": "code",
      "metadata": {
        "id": "eQKdyB0IXq7Y",
        "colab_type": "code",
        "colab": {
          "base_uri": "https://localhost:8080/",
          "height": 867
        },
        "outputId": "e6432a45-126c-433d-b391-798d0fa27523"
      },
      "source": [
        "# 学習\n",
        "num_epochs = 50 # エポック数の定義, 今回は50\n",
        "\n",
        "## 損失と正解率を保存するリスト\n",
        "train_loss_list = []\n",
        "train_acc_list = []\n",
        "eval_loss_list = []\n",
        "eval_acc_list = []\n",
        "\n",
        "for epoch in range(num_epochs):\n",
        "  # 損失と正解率の初期化\n",
        "  train_loss = 0\n",
        "  train_acc = 0\n",
        "  eval_loss = 0\n",
        "  eval_acc = 0\n",
        "\n",
        "  ##Trainingモード=====================\n",
        "  mlpnet.train() # 訓練モードに切り替える\n",
        "  # ミニバッチごとに分割して読み込む\n",
        "  for i, (images, labels) in enumerate(train_loader):\n",
        "    # view関数で縦横32次元, チャンネル3次元の画像データを1次元に変換\n",
        "    images, labels = images.view(-1,32*32*3).to(device), labels.to(device)\n",
        "\n",
        "    optimizer.zero_grad() # 勾配をリセット\n",
        "    outputs = mlpnet(images) # 順伝播を計算\n",
        "    loss = criterion(outputs, labels) # 損失の計算 このときoutputsとlabelsの次元は等しい\n",
        "\n",
        "    train_loss += loss.item() # 損失のミニバッチ分を溜め込む\n",
        "    train_acc += (outputs.max(1)[1] == labels).sum().item() # 正解率のミニバッチ分を溜め込む\n",
        "    loss.backward() # 逆伝播の計算\n",
        "    optimizer.step() # 重みの更新\n",
        "\n",
        "  # 平均損失と平均正解率を計算\n",
        "  avg_train_loss = train_loss / len(train_loader.dataset)\n",
        "  avg_train_acc = train_acc / len(train_loader.dataset)\n",
        "\n",
        "  ##Evaluationモード====================\n",
        "  mlpnet.eval() # 評価モードへの切り替え\n",
        "  # 評価する時に必要のない計算が走らないようにtorch.no_gradを用いる.\n",
        "  with torch.no_grad():\n",
        "    for images, labels, in test_loader:\n",
        "      images, labels = images.view(-1, 32*32*3).to(device), labels.to(device)\n",
        "      outputs = mlpnet(images)\n",
        "      loss = criterion(outputs, labels)\n",
        "      eval_loss += loss.item()\n",
        "      eval_acc += (outputs.max(1)[1] == labels).sum().item()\n",
        "    avg_eval_loss = eval_loss / len(test_loader.dataset)\n",
        "    avg_eval_acc = eval_acc / len(test_loader.dataset)\n",
        "\n",
        "    # 経過ログ\n",
        "    print ('Epoch [{}/{}], Loss: {loss:.4f}, val_loss: {val_loss:.4f}, val_acc: {val_acc:.4f}'.format(epoch+1, num_epochs, i+1, loss=avg_train_loss, val_loss=avg_eval_loss, val_acc=avg_eval_acc))\n",
        "\n",
        "    \n",
        "    # 最後に可視化するための損失と正解率のデータ保存\n",
        "    train_loss_list.append(avg_train_loss)\n",
        "    train_acc_list.append(avg_train_acc)\n",
        "    eval_loss_list.append(avg_eval_loss)\n",
        "    eval_acc_list.append(avg_eval_acc)\n"
      ],
      "execution_count": 9,
      "outputs": [
        {
          "output_type": "stream",
          "text": [
            "Epoch [1/50], Loss: 0.0302, val_loss: 0.0274, val_acc: 0.3714\n",
            "Epoch [2/50], Loss: 0.0274, val_loss: 0.0267, val_acc: 0.3936\n",
            "Epoch [3/50], Loss: 0.0264, val_loss: 0.0253, val_acc: 0.4266\n",
            "Epoch [4/50], Loss: 0.0258, val_loss: 0.0247, val_acc: 0.4367\n",
            "Epoch [5/50], Loss: 0.0252, val_loss: 0.0248, val_acc: 0.4346\n",
            "Epoch [6/50], Loss: 0.0246, val_loss: 0.0239, val_acc: 0.4519\n",
            "Epoch [7/50], Loss: 0.0243, val_loss: 0.0237, val_acc: 0.4585\n",
            "Epoch [8/50], Loss: 0.0240, val_loss: 0.0235, val_acc: 0.4646\n",
            "Epoch [9/50], Loss: 0.0237, val_loss: 0.0241, val_acc: 0.4493\n",
            "Epoch [10/50], Loss: 0.0234, val_loss: 0.0229, val_acc: 0.4789\n",
            "Epoch [11/50], Loss: 0.0231, val_loss: 0.0225, val_acc: 0.4835\n",
            "Epoch [12/50], Loss: 0.0229, val_loss: 0.0230, val_acc: 0.4731\n",
            "Epoch [13/50], Loss: 0.0226, val_loss: 0.0224, val_acc: 0.4907\n",
            "Epoch [14/50], Loss: 0.0225, val_loss: 0.0225, val_acc: 0.4777\n",
            "Epoch [15/50], Loss: 0.0222, val_loss: 0.0221, val_acc: 0.5001\n",
            "Epoch [16/50], Loss: 0.0220, val_loss: 0.0219, val_acc: 0.4975\n",
            "Epoch [17/50], Loss: 0.0218, val_loss: 0.0221, val_acc: 0.4895\n",
            "Epoch [18/50], Loss: 0.0217, val_loss: 0.0224, val_acc: 0.4923\n",
            "Epoch [19/50], Loss: 0.0216, val_loss: 0.0215, val_acc: 0.5141\n",
            "Epoch [20/50], Loss: 0.0215, val_loss: 0.0221, val_acc: 0.4989\n",
            "Epoch [21/50], Loss: 0.0214, val_loss: 0.0217, val_acc: 0.5078\n",
            "Epoch [22/50], Loss: 0.0212, val_loss: 0.0213, val_acc: 0.5178\n",
            "Epoch [23/50], Loss: 0.0211, val_loss: 0.0214, val_acc: 0.5123\n",
            "Epoch [24/50], Loss: 0.0209, val_loss: 0.0210, val_acc: 0.5220\n",
            "Epoch [25/50], Loss: 0.0208, val_loss: 0.0209, val_acc: 0.5290\n",
            "Epoch [26/50], Loss: 0.0207, val_loss: 0.0217, val_acc: 0.4999\n",
            "Epoch [27/50], Loss: 0.0207, val_loss: 0.0211, val_acc: 0.5191\n",
            "Epoch [28/50], Loss: 0.0206, val_loss: 0.0214, val_acc: 0.5056\n",
            "Epoch [29/50], Loss: 0.0206, val_loss: 0.0212, val_acc: 0.5082\n",
            "Epoch [30/50], Loss: 0.0203, val_loss: 0.0208, val_acc: 0.5201\n",
            "Epoch [31/50], Loss: 0.0203, val_loss: 0.0210, val_acc: 0.5241\n",
            "Epoch [32/50], Loss: 0.0202, val_loss: 0.0216, val_acc: 0.5186\n",
            "Epoch [33/50], Loss: 0.0202, val_loss: 0.0213, val_acc: 0.5084\n",
            "Epoch [34/50], Loss: 0.0201, val_loss: 0.0207, val_acc: 0.5262\n",
            "Epoch [35/50], Loss: 0.0200, val_loss: 0.0210, val_acc: 0.5164\n",
            "Epoch [36/50], Loss: 0.0199, val_loss: 0.0209, val_acc: 0.5197\n",
            "Epoch [37/50], Loss: 0.0199, val_loss: 0.0212, val_acc: 0.5144\n",
            "Epoch [38/50], Loss: 0.0199, val_loss: 0.0212, val_acc: 0.5172\n",
            "Epoch [39/50], Loss: 0.0197, val_loss: 0.0208, val_acc: 0.5295\n",
            "Epoch [40/50], Loss: 0.0197, val_loss: 0.0206, val_acc: 0.5308\n",
            "Epoch [41/50], Loss: 0.0195, val_loss: 0.0205, val_acc: 0.5307\n",
            "Epoch [42/50], Loss: 0.0196, val_loss: 0.0218, val_acc: 0.5071\n",
            "Epoch [43/50], Loss: 0.0195, val_loss: 0.0204, val_acc: 0.5289\n",
            "Epoch [44/50], Loss: 0.0194, val_loss: 0.0212, val_acc: 0.5133\n",
            "Epoch [45/50], Loss: 0.0195, val_loss: 0.0210, val_acc: 0.5191\n",
            "Epoch [46/50], Loss: 0.0193, val_loss: 0.0206, val_acc: 0.5220\n",
            "Epoch [47/50], Loss: 0.0192, val_loss: 0.0205, val_acc: 0.5360\n",
            "Epoch [48/50], Loss: 0.0191, val_loss: 0.0206, val_acc: 0.5332\n",
            "Epoch [49/50], Loss: 0.0191, val_loss: 0.0205, val_acc: 0.5353\n",
            "Epoch [50/50], Loss: 0.0191, val_loss: 0.0207, val_acc: 0.5287\n"
          ],
          "name": "stdout"
        }
      ]
    },
    {
      "cell_type": "code",
      "metadata": {
        "id": "yzzxl5K6bgdr",
        "colab_type": "code",
        "colab": {
          "base_uri": "https://localhost:8080/",
          "height": 573
        },
        "outputId": "4c3327c7-4209-4724-be1e-0d6784b6ac51"
      },
      "source": [
        "## 結果の可視化\n",
        "### 損失\n",
        "plt.figure()\n",
        "plt.plot(range(num_epochs), train_loss_list, color=\"blue\", linestyle=\"-\", label=\"train_loss\")\n",
        "plt.plot(range(num_epochs), eval_loss_list, color=\"green\", linestyle=\"--\", label = \"eval_loss\")\n",
        "plt.legend()\n",
        "plt.xlabel(\"eposh\")\n",
        "plt.ylabel(\"loss\")\n",
        "plt.title(\"Training and Evalidation Loss\")\n",
        "plt.grid()\n",
        "\n",
        "### 正解率\n",
        "plt.figure()\n",
        "plt.plot(range(num_epochs), train_acc_list, color=\"blue\", linestyle=\"-\", label=\"train_acc\")\n",
        "plt.plot(range(num_epochs), eval_acc_list, color=\"green\", linestyle=\"--\", label = \"eval_acc\")\n",
        "plt.legend()\n",
        "plt.xlabel(\"eposh\")\n",
        "plt.ylabel(\"Accurate\")\n",
        "plt.title(\"Traingin and Evalidation Accurate\")\n",
        "plt.grid()"
      ],
      "execution_count": 10,
      "outputs": [
        {
          "output_type": "display_data",
          "data": {
            "image/png": "[encoded data removed]",
            "text/plain": [
              "<Figure size 432x288 with 1 Axes>"
            ]
          },
          "metadata": {
            "tags": [],
            "needs_background": "light"
          }
        },
        {
          "output_type": "display_data",
          "data": {
            "image/png": "[encoded data removed]",
            "text/plain": [
              "<Figure size 432x288 with 1 Axes>"
            ]
          },
          "metadata": {
            "tags": [],
            "needs_background": "light"
          }
        }
      ]
    },
    {
      "cell_type": "code",
      "metadata": {
        "id": "tX0nuOzDs_U-",
        "colab_type": "code",
        "colab": {
          "base_uri": "https://localhost:8080/",
          "height": 34
        },
        "outputId": "a6f4fa34-0610-4870-e610-74cb16bed373"
      },
      "source": [
        "# 推論\n",
        "## ネットワークの保存\n",
        "torch.save(mlpnet.state_dict(), \"mlpnetCIFAR10.ckpt\")\n",
        "\n",
        "## ネットワークの読み込み\n",
        "mlpnet2 = MLPNet().to(device)\n",
        "mlpnet2.load_state_dict(torch.load(\"mlpnetCIFAR10.ckpt\"))"
      ],
      "execution_count": 11,
      "outputs": [
        {
          "output_type": "execute_result",
          "data": {
            "text/plain": [
              "<All keys matched successfully>"
            ]
          },
          "metadata": {
            "tags": []
          },
          "execution_count": 11
        }
      ]
    },
    {
      "cell_type": "code",
      "metadata": {
        "id": "fOO4-FtdtUP0",
        "colab_type": "code",
        "colab": {
          "base_uri": "https://localhost:8080/",
          "height": 34
        },
        "outputId": "eeaaedd6-867c-4b3c-daed-63f4e719eb36"
      },
      "source": [
        "mlpnet2.eval()\n",
        "with torch.no_grad():\n",
        "  total = 0\n",
        "  test_acc = 0\n",
        "  for images, labels in test_loader:\n",
        "    images, labels = images.view(-1,32*32*3).to(device), labels.to(device)\n",
        "    outputs = mlpnet2(images)\n",
        "    test_acc += (outputs.max(1)[1] == labels).sum().item()\n",
        "    total += labels.size(0)\n",
        "  print(\"正解率 : {} %\".format(100* test_acc/total))\n",
        "  "
      ],
      "execution_count": 12,
      "outputs": [
        {
          "output_type": "stream",
          "text": [
            "正解率 : 52.87 %\n"
          ],
          "name": "stdout"
        }
      ]
    }
  ]
}