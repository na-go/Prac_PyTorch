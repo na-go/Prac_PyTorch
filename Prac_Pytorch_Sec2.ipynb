{
  "nbformat": 4,
  "nbformat_minor": 0,
  "metadata": {
    "colab": {
      "name": "Prac_Pytorch_Sec2",
      "provenance": [],
      "collapsed_sections": [],
      "authorship_tag": "ABX9TyNc9n5ZY21ydRAfQmiQbR4T",
      "include_colab_link": true
    },
    "kernelspec": {
      "name": "python3",
      "display_name": "Python 3"
    },
    "accelerator": "GPU"
  },
  "cells": [
    {
      "cell_type": "markdown",
      "metadata": {
        "id": "view-in-github",
        "colab_type": "text"
      },
      "source": [
        "<a href=\"https://colab.research.google.com/github/na-go/Prac_PyTorch/blob/master/Prac_Pytorch_Sec2.ipynb\" target=\"_parent\"><img src=\"https://colab.research.google.com/assets/colab-badge.svg\" alt=\"Open In Colab\"/></a>"
      ]
    },
    {
      "cell_type": "code",
      "metadata": {
        "id": "-YrwmPTLGKHl",
        "colab_type": "code",
        "outputId": "9cbf14e1-4655-428b-aefc-b4453be6c6e4",
        "colab": {
          "base_uri": "https://localhost:8080/",
          "height": 122
        }
      },
      "source": [
        "# Google Driveにマウント\n",
        "from google.colab import drive\n",
        "drive.mount(\"/content/gdrive\")"
      ],
      "execution_count": 0,
      "outputs": [
        {
          "output_type": "stream",
          "text": [
            "Go to this URL in a browser: https://accounts.google.com/o/oauth2/auth?client_id=947318989803-6bn6qk8qdgf4n4g3pfee6491hc0brc4i.apps.googleusercontent.com&redirect_uri=urn%3aietf%3awg%3aoauth%3a2.0%3aoob&response_type=code&scope=email%20https%3a%2f%2fwww.googleapis.com%2fauth%2fdocs.test%20https%3a%2f%2fwww.googleapis.com%2fauth%2fdrive%20https%3a%2f%2fwww.googleapis.com%2fauth%2fdrive.photos.readonly%20https%3a%2f%2fwww.googleapis.com%2fauth%2fpeopleapi.readonly\n",
            "\n",
            "Enter your authorization code:\n",
            "··········\n",
            "Mounted at /content/gdrive\n"
          ],
          "name": "stdout"
        }
      ]
    },
    {
      "cell_type": "code",
      "metadata": {
        "id": "5hREdk9LGode",
        "colab_type": "code",
        "outputId": "4ba13429-8871-41cd-9799-55223364f529",
        "colab": {
          "base_uri": "https://localhost:8080/",
          "height": 34
        }
      },
      "source": [
        "cd gdrive/My Drive/Colab Notebooks/prac_Putorch"
      ],
      "execution_count": 0,
      "outputs": [
        {
          "output_type": "stream",
          "text": [
            "/content/gdrive/My Drive/Colab Notebooks/prac_Putorch\n"
          ],
          "name": "stdout"
        }
      ]
    },
    {
      "cell_type": "code",
      "metadata": {
        "id": "uZDZRB72JtXt",
        "colab_type": "code",
        "colab": {}
      },
      "source": [
        "# モジュールのインポート\n",
        "import torch.tensor as tensor\n",
        "import torch.nn as nn\n",
        "import torch"
      ],
      "execution_count": 0,
      "outputs": []
    },
    {
      "cell_type": "code",
      "metadata": {
        "id": "Z-Z9n9C9KR-B",
        "colab_type": "code",
        "outputId": "ca62c472-185d-4159-9de8-4b40de75be63",
        "colab": {
          "base_uri": "https://localhost:8080/",
          "height": 697
        }
      },
      "source": [
        "# Tensorの積\n",
        "## vector同士の内積\n",
        "x1 = torch.arange(4)\n",
        "x2 = torch.arange(4)\n",
        "print(\"'dot x1 and x2':\\n\",torch.dot(x1,x2))\n",
        "\n",
        "## vector と array の積\n",
        "X1 = torch.arange(8).view(2,4)\n",
        "print(\"'mv X1 and x2':\\n\", torch.mv(X1,x2))\n",
        "\n",
        "## array同士の積\n",
        "X2 = torch.arange(8).view(2,4).T\n",
        "print(\"'mm X1 and X2':\\n\", torch.mm(X1,X2))\n",
        "\n",
        "## Batchごとの行列積\n",
        "Y1 = torch.arange(24).view(-1,2,4)\n",
        "Y2 = torch.arange(24).view(-1,4,2)\n",
        "print(\"Y1 :\\n\",Y1)\n",
        "print(\"Y2 :\\n\",Y2)\n",
        "print(\"bmm Y1 and Y2 :\\n\", torch.bmm(Y1,Y2))"
      ],
      "execution_count": 0,
      "outputs": [
        {
          "output_type": "stream",
          "text": [
            "'dot x1 and x2':\n",
            " tensor(14)\n",
            "'mv X1 and x2':\n",
            " tensor([14, 38])\n",
            "'mm X1 and X2':\n",
            " tensor([[ 14,  38],\n",
            "        [ 38, 126]])\n",
            "Y1 :\n",
            " tensor([[[ 0,  1,  2,  3],\n",
            "         [ 4,  5,  6,  7]],\n",
            "\n",
            "        [[ 8,  9, 10, 11],\n",
            "         [12, 13, 14, 15]],\n",
            "\n",
            "        [[16, 17, 18, 19],\n",
            "         [20, 21, 22, 23]]])\n",
            "Y2 :\n",
            " tensor([[[ 0,  1],\n",
            "         [ 2,  3],\n",
            "         [ 4,  5],\n",
            "         [ 6,  7]],\n",
            "\n",
            "        [[ 8,  9],\n",
            "         [10, 11],\n",
            "         [12, 13],\n",
            "         [14, 15]],\n",
            "\n",
            "        [[16, 17],\n",
            "         [18, 19],\n",
            "         [20, 21],\n",
            "         [22, 23]]])\n",
            "bmm Y1 and Y2 :\n",
            " tensor([[[  28,   34],\n",
            "         [  76,   98]],\n",
            "\n",
            "        [[ 428,  466],\n",
            "         [ 604,  658]],\n",
            "\n",
            "        [[1340, 1410],\n",
            "         [1644, 1730]]])\n"
          ],
          "name": "stdout"
        }
      ]
    },
    {
      "cell_type": "code",
      "metadata": {
        "id": "AWm7zz2kOZvt",
        "colab_type": "code",
        "outputId": "66ada616-6cf1-4c06-d952-11b36e2e159e",
        "colab": {
          "base_uri": "https://localhost:8080/",
          "height": 255
        }
      },
      "source": [
        "# ネットワーク定義\n",
        "## Sequentialの例1\n",
        "sequential_model1 = nn.Sequential(\n",
        "    nn.Conv2d(1,20,5),\n",
        "    nn.ReLU(),\n",
        "    nn.Conv2d(20,54,5),\n",
        "    nn.ReLU()\n",
        ")\n",
        "print(\"sequential_model1 : \\n\",sequential_model1)\n",
        "\n",
        "## Sequentialの例2\n",
        "sequential_model2 = nn.Sequential()\n",
        "sequential_model2.add_module(\"conv1\", nn.Conv2d(1,20,5))\n",
        "sequential_model2.add_module(\"relu1\", nn.ReLU())\n",
        "sequential_model2.add_module(\"conv2\", nn.Conv2d(20,64,5))\n",
        "sequential_model2.add_module(\"relu2\", nn.ReLU())\n",
        "print(\"sequential_model2 : \\n\", sequential_model2)\n"
      ],
      "execution_count": 0,
      "outputs": [
        {
          "output_type": "stream",
          "text": [
            "sequential_model1 : \n",
            " Sequential(\n",
            "  (0): Conv2d(1, 20, kernel_size=(5, 5), stride=(1, 1))\n",
            "  (1): ReLU()\n",
            "  (2): Conv2d(20, 54, kernel_size=(5, 5), stride=(1, 1))\n",
            "  (3): ReLU()\n",
            ")\n",
            "sequential_model2 : \n",
            " Sequential(\n",
            "  (conv1): Conv2d(1, 20, kernel_size=(5, 5), stride=(1, 1))\n",
            "  (relu1): ReLU()\n",
            "  (conv2): Conv2d(20, 64, kernel_size=(5, 5), stride=(1, 1))\n",
            "  (relu2): ReLU()\n",
            ")\n"
          ],
          "name": "stdout"
        }
      ]
    },
    {
      "cell_type": "code",
      "metadata": {
        "id": "oRSC18IvVp0A",
        "colab_type": "code",
        "outputId": "29db48ff-b3f6-46a4-f195-1e3408f2fde6",
        "colab": {
          "base_uri": "https://localhost:8080/",
          "height": 85
        }
      },
      "source": [
        "## nn.Moduleを継承した例\n",
        "import torch.nn.functional as F\n",
        "\n",
        "class Model(nn.Module):\n",
        "  def __init__(self):\n",
        "    super(Model, self).__init__()\n",
        "    self.conv1 = nn.Conv2d(1,20,5)\n",
        "    self.conv2 = nn.Conv2d(20,64,5)\n",
        "\n",
        "  def forward(self, x):\n",
        "    x = F.relu(self.conv1(x))\n",
        "    return F.relu(self.conv2(x))\n",
        "\n",
        "model = Model()\n",
        "\n",
        "print(model)"
      ],
      "execution_count": 0,
      "outputs": [
        {
          "output_type": "stream",
          "text": [
            "Model(\n",
            "  (conv1): Conv2d(1, 20, kernel_size=(5, 5), stride=(1, 1))\n",
            "  (conv2): Conv2d(20, 64, kernel_size=(5, 5), stride=(1, 1))\n",
            ")\n"
          ],
          "name": "stdout"
        }
      ]
    },
    {
      "cell_type": "code",
      "metadata": {
        "id": "psjIDbPJkLQT",
        "colab_type": "code",
        "outputId": "e3ca7896-071f-4a4c-fcaf-8641e76966ed",
        "colab": {
          "base_uri": "https://localhost:8080/",
          "height": 119
        }
      },
      "source": [
        "## nn.ModuelListを使った書き方\n",
        "class ModelwithList(nn.Module):\n",
        "  def __init__(self):\n",
        "    super(ModelwithList, self).__init__()\n",
        "    self.convs = nn.ModuleList([nn.Conv2d(1, 20, 5), nn.Conv2d(20, 64, 5)])\n",
        "\n",
        "  def forward(self, x):\n",
        "    for l in self.convs:\n",
        "      x = l(x)\n",
        "    return x\n",
        "  \n",
        "modelwithlist = ModelwithList()\n",
        "\n",
        "print(modelwithlist)\n",
        "\n",
        "  "
      ],
      "execution_count": 0,
      "outputs": [
        {
          "output_type": "stream",
          "text": [
            "ModelwithList(\n",
            "  (convs): ModuleList(\n",
            "    (0): Conv2d(1, 20, kernel_size=(5, 5), stride=(1, 1))\n",
            "    (1): Conv2d(20, 64, kernel_size=(5, 5), stride=(1, 1))\n",
            "  )\n",
            ")\n"
          ],
          "name": "stdout"
        }
      ]
    },
    {
      "cell_type": "code",
      "metadata": {
        "id": "1y_ow6OjlCrZ",
        "colab_type": "code",
        "outputId": "b68fafdf-6364-4b8e-f9fb-a08b6fb3c114",
        "colab": {
          "base_uri": "https://localhost:8080/",
          "height": 119
        }
      },
      "source": [
        "## nn.ModuleDictを使った書き方\n",
        "class ModelwithDict(nn.Module):\n",
        "\n",
        "  def __init__(self):\n",
        "    super(ModelwithDict, self).__init__()\n",
        "    self.convs = nn.ModuleDict({\"conv1\" : nn.Conv2d(1, 20, 5), \"conv2\" : nn.Conv2d(20, 64, 5)})\n",
        "\n",
        "  def forward(self, x):\n",
        "    for i in self.convs.values():\n",
        "      x = l(x)\n",
        "    return x\n",
        "\n",
        "modelwithdict = ModelwithDict()\n",
        "\n",
        "print(modelwithdict)"
      ],
      "execution_count": 0,
      "outputs": [
        {
          "output_type": "stream",
          "text": [
            "ModelwithDict(\n",
            "  (convs): ModuleDict(\n",
            "    (conv1): Conv2d(1, 20, kernel_size=(5, 5), stride=(1, 1))\n",
            "    (conv2): Conv2d(20, 64, kernel_size=(5, 5), stride=(1, 1))\n",
            "  )\n",
            ")\n"
          ],
          "name": "stdout"
        }
      ]
    },
    {
      "cell_type": "code",
      "metadata": {
        "id": "Xi1yY8JdmUVk",
        "colab_type": "code",
        "outputId": "baff3478-13ee-462a-d443-55fc79f8fc16",
        "colab": {
          "base_uri": "https://localhost:8080/",
          "height": 102
        }
      },
      "source": [
        "# 自動微分機能\n",
        "## Tensorを作る\n",
        "x = torch.tensor(1, requires_grad = True, dtype = torch.float32)\n",
        "w = torch.tensor(2, requires_grad = True, dtype = torch.float32)\n",
        "b = torch.tensor(3, requires_grad = True, dtype = torch.float32)\n",
        "\n",
        "## 計算グラフを作成する\n",
        "y = w * x + b\n",
        "## Tensorの確認\n",
        "print(y)\n",
        "\n",
        "## 勾配計算\n",
        "print(y.backward())\n",
        "\n",
        "## 勾配を確認\n",
        "print(x.grad)\n",
        "print(w.grad)\n",
        "print(b.grad)"
      ],
      "execution_count": 0,
      "outputs": [
        {
          "output_type": "stream",
          "text": [
            "tensor(5., grad_fn=<AddBackward0>)\n",
            "None\n",
            "tensor(2.)\n",
            "tensor(1.)\n",
            "tensor(1.)\n"
          ],
          "name": "stdout"
        }
      ]
    },
    {
      "cell_type": "code",
      "metadata": {
        "id": "Yxh-enSaN2g9",
        "colab_type": "code",
        "colab": {}
      },
      "source": [
        "# ネットワークパラメータの凍結\n",
        "## モジュールのインポート\n",
        "import torchvision\n",
        "\n",
        "## vgg16を持ってくる\n",
        "vgg16 = torchvision.models.vgg16(pretrained = True)\n",
        "for param in vgg16.features.parameters():\n",
        "  param.requires_grad = False"
      ],
      "execution_count": 0,
      "outputs": []
    },
    {
      "cell_type": "code",
      "metadata": {
        "id": "MaQrfkHnOjNy",
        "colab_type": "code",
        "outputId": "d1f89b25-de67-4a60-a6a8-b8233d3e4fe1",
        "colab": {
          "base_uri": "https://localhost:8080/",
          "height": 85
        }
      },
      "source": [
        "# GPUの使用\n",
        "## Tensorにgpuを使用\n",
        "xf_gpu = torch.FloatTensor(1,2).to(\"cuda\")\n",
        "## ネットワークにgpuを使用\n",
        "net = Model()\n",
        "net.to(\"cuda\")"
      ],
      "execution_count": 0,
      "outputs": [
        {
          "output_type": "execute_result",
          "data": {
            "text/plain": [
              "Model(\n",
              "  (conv1): Conv2d(1, 20, kernel_size=(5, 5), stride=(1, 1))\n",
              "  (conv2): Conv2d(20, 64, kernel_size=(5, 5), stride=(1, 1))\n",
              ")"
            ]
          },
          "metadata": {
            "tags": []
          },
          "execution_count": 21
        }
      ]
    },
    {
      "cell_type": "code",
      "metadata": {
        "id": "TEPLpnWcO691",
        "colab_type": "code",
        "colab": {}
      },
      "source": [
        "# 損失関数と最適化関数を使って実際に学習\n",
        "from torch import optim\n",
        "import matplotlib.pyplot as plt\n",
        "%matplotlib inline\n",
        "## 簡単なニューラルネットを作成\n",
        "class Net(nn.Module):\n",
        "  def __init__(self):\n",
        "    super(Net, self).__init__()\n",
        "    self.liner1 = nn.Linear(in_features=10, out_features=10, bias = False)\n",
        "\n",
        "  def forward(self, x):\n",
        "    x = self.liner1(x)\n",
        "    return x\n"
      ],
      "execution_count": 0,
      "outputs": []
    },
    {
      "cell_type": "code",
      "metadata": {
        "id": "rj6_U9p0SKuX",
        "colab_type": "code",
        "colab": {}
      },
      "source": [
        "## main関数の作成\n",
        "def main(opt_conf):\n",
        "  loss_list = []\n",
        "  ## データ作成\n",
        "  x = torch.randn(2, 10)\n",
        "  w = torch.randn(1,1)\n",
        "  y = torch.mul(w,x) + 2\n",
        "  ## ネットワーク定義\n",
        "  net = Net()\n",
        "\n",
        "  ## 損失関数\n",
        "  criterion = nn.MSELoss()\n",
        "  ## 最適化関数\n",
        "  if opt_conf == \"sgd\":\n",
        "    optimizer = optim.SGD(net.parameters(), lr = 0.1)\n",
        "  elif opt_conf == \"momentum_sgd\":\n",
        "    optimizer = optim.SGD(net.parameters(), lr = 0.1, momentum = 0.9)\n",
        "  elif opt_conf == \"adadelta\":\n",
        "    optimizer = optim.Adadelta(net.parameters(), rho = 0.95, eps = 1e-04)\n",
        "  elif opt_conf == \"adagrad\":\n",
        "    optimizer = optim.Adagrad(net.parameters())\n",
        "  elif opt_conf == \"adam\":\n",
        "    optimizer = optim.Adam(net.parameters(), lr = 1e-1, betas=(0.9,0.99), eps = 1e-09)\n",
        "  elif opt_conf == \"rmsprop\" :\n",
        "    optimizer = optim.RMSprop(net.parameters())\n",
        "\n",
        "  ## 学習\n",
        "  for epoch in range(50):\n",
        "    optimizer.zero_grad()\n",
        "    y_pred = net(x)\n",
        "\n",
        "    loss = criterion(y_pred,y)\n",
        "    loss.backward()\n",
        "\n",
        "    optimizer.step()\n",
        "\n",
        "    loss_list.append(loss.data.item())\n",
        "  return loss_list"
      ],
      "execution_count": 0,
      "outputs": []
    },
    {
      "cell_type": "code",
      "metadata": {
        "id": "jl_5rKHsUOnk",
        "colab_type": "code",
        "outputId": "cfabd5a3-f0d6-4207-b241-bf4a2717a9fa",
        "colab": {
          "base_uri": "https://localhost:8080/",
          "height": 265
        }
      },
      "source": [
        "## 最適化関数\n",
        "loss_dict = {}\n",
        "loss_dict[\"sgd\"] = []\n",
        "loss_dict[\"momentum_sgd\"] = []\n",
        "loss_dict[\"adadelta\"] = []\n",
        "loss_dict[\"adagrad\"] = []\n",
        "loss_dict[\"adam\"] = []\n",
        "loss_dict[\"rmsprop\"] = []\n",
        "\n",
        "for key, value in loss_dict.items():\n",
        "  loss_dict[key] = main(key)\n",
        "\n",
        "plt.figure()\n",
        "plt.plot(loss_dict[\"sgd\"], label = \"sgd\")\n",
        "plt.plot(loss_dict[\"momentum_sgd\"] , label = \"momentum_sgd\")\n",
        "plt.plot(loss_dict[\"adadelta\"], label = \"adadelta\")\n",
        "plt.plot(loss_dict[\"adagrad\"], label = \"adagrad\")\n",
        "plt.plot(loss_dict[\"adam\"], label = \"adam\")\n",
        "plt.plot(loss_dict[\"rmsprop\"], label = \"rmsprop\")\n",
        "plt.legend()\n",
        "plt.grid()"
      ],
      "execution_count": 0,
      "outputs": [
        {
          "output_type": "display_data",
          "data": {
            "image/png": "[encoded data removed]",
            "text/plain": [
              "<Figure size 432x288 with 1 Axes>"
            ]
          },
          "metadata": {
            "tags": [],
            "needs_background": "light"
          }
        }
      ]
    },
    {
      "cell_type": "code",
      "metadata": {
        "id": "wPUDoPP4VHNQ",
        "colab_type": "code",
        "colab": {}
      },
      "source": [
        ""
      ],
      "execution_count": 0,
      "outputs": []
    }
  ]
}